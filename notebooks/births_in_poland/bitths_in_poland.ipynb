{
 "cells": [
  {
   "cell_type": "code",
   "execution_count": 23,
   "metadata": {},
   "outputs": [],
   "source": [
    "import pandas as pd\n",
    "import plotly.plotly as py\n",
    "\n",
    "years = list(range(2002, 2017))\n",
    "files = []\n",
    "for y in years:\n",
    "    files.append(pd.read_csv('./data/regions_pl_uro_{}_00_2p.csv'.format(y),index_col=0,usecols=list(range(1,14))))\n",
    "\n",
    "data = pd.concat(files, keys = years)\n",
    "gps = pd.read_csv('./data/regions_lon_lat.csv')\n"
   ]
  },
  {
   "cell_type": "code",
   "execution_count": 24,
   "metadata": {},
   "outputs": [
    {
     "name": "stdout",
     "output_type": "stream",
     "text": [
      "            Województwo       Stolica        lon        lat\n",
      "0          dolnośląskie       Wrocław  17.033333  51.116667\n",
      "1    kujawsko-pomorskie         Toruń  18.616667  53.033333\n",
      "2             lubelskie        Lublin  22.568440  51.400000\n",
      "3              lubuskie  Zielona Góra  15.050000  51.933333\n",
      "4               łódzkie          Łódź  19.466667  51.783333\n",
      "5           małopolskie        Kraków  19.950000  50.050000\n",
      "6           mazowieckie      Warszawa  21.033333  52.200000\n",
      "7              opolskie         Opole  17.933333  50.666667\n",
      "8          podkarpackie       Rzeszów  22.016667  50.050000\n",
      "9             podlaskie     Białystok  23.016667  53.133333\n",
      "10            pomorskie        Gdańsk  18.633333  54.366667\n",
      "11              śląskie      Katowice  19.000000  50.250000\n",
      "12       świętokrzyskie        Kielce  20.616667  50.883333\n",
      "13  warmińsko-mazurskie       Olsztyn  20.490189  53.770000\n",
      "14        wielkopolskie        Poznań  16.916667  52.416667\n",
      "15   zachodniopomorskie      Szczecin  14.566667  53.433333\n"
     ]
    }
   ],
   "source": [
    "\n",
    "print(gps)\n"
   ]
  },
  {
   "cell_type": "code",
   "execution_count": null,
   "metadata": {},
   "outputs": [],
   "source": []
  },
  {
   "cell_type": "code",
   "execution_count": 18,
   "metadata": {},
   "outputs": [
    {
     "data": {
      "text/html": [
       "<iframe id=\"igraph\" scrolling=\"no\" style=\"border:none;\" seamless=\"seamless\" src=\"https://plot.ly/~wex/17.embed\" height=\"525px\" width=\"100%\"></iframe>"
      ],
      "text/plain": [
       "<plotly.tools.PlotlyDisplay object>"
      ]
     },
     "execution_count": 18,
     "metadata": {},
     "output_type": "execute_result"
    }
   ],
   "source": [
    "df = pd.read_csv('https://raw.githubusercontent.com/plotly/datasets/master/2014_us_cities.csv')\n",
    "df.head()\n",
    "\n",
    "df['text'] = df['name'] + '<br>Population ' + (df['pop']/1e6).astype(str)+' million'\n",
    "limits = [(0,2),(3,10),(11,20),(21,50),(50,3000)]\n",
    "colors = [\"rgb(0,116,217)\",\"rgb(255,65,54)\",\"rgb(133,20,75)\",\"rgb(255,133,27)\",\"lightgrey\"]\n",
    "cities = []\n",
    "scale = 5000\n",
    "\n",
    "for i in range(len(limits)):\n",
    "    lim = limits[i]\n",
    "    df_sub = df[lim[0]:lim[1]]\n",
    "    city = dict(\n",
    "        type = 'scattergeo',\n",
    "        locationmode = 'USA-states',\n",
    "        lon = df_sub['lon'],\n",
    "        lat = df_sub['lat'],\n",
    "        text = df_sub['text'],\n",
    "        marker = dict(\n",
    "            size = df_sub['pop']/scale,\n",
    "            color = colors[i],\n",
    "            line = dict(width=0.5, color='rgb(40,40,40)'),\n",
    "            sizemode = 'area'\n",
    "        ),\n",
    "        name = '{0} - {1}'.format(lim[0],lim[1]) )\n",
    "    cities.append(city)\n",
    "\n",
    "layout = dict(\n",
    "        title = '2014 US city populations<br>(Click legend to toggle traces)',\n",
    "        showlegend = True,\n",
    "        geo = dict(\n",
    "            scope='usa',\n",
    "            projection=dict( type='albers usa' ),\n",
    "            showland = True,\n",
    "            landcolor = 'rgb(217, 217, 217)',\n",
    "            subunitwidth=1,\n",
    "            countrywidth=1,\n",
    "            subunitcolor=\"rgb(255, 255, 255)\",\n",
    "            countrycolor=\"rgb(255, 255, 255)\"\n",
    "        ),\n",
    "    )\n",
    "\n",
    "fig = dict( data=cities, layout=layout )\n",
    "py.iplot( fig, validate=False, filename='d3-bubble-map-populations' )"
   ]
  },
  {
   "cell_type": "code",
   "execution_count": null,
   "metadata": {},
   "outputs": [],
   "source": []
  }
 ],
 "metadata": {
  "kernelspec": {
   "display_name": "Python 3",
   "language": "python",
   "name": "python3"
  },
  "language_info": {
   "codemirror_mode": {
    "name": "ipython",
    "version": 3
   },
   "file_extension": ".py",
   "mimetype": "text/x-python",
   "name": "python",
   "nbconvert_exporter": "python",
   "pygments_lexer": "ipython3",
   "version": "3.5.2"
  }
 },
 "nbformat": 4,
 "nbformat_minor": 1
}
